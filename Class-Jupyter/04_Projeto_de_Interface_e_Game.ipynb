{
 "cells": [
  {
   "cell_type": "markdown",
   "id": "15d5f32b",
   "metadata": {
    "slideshow": {
     "slide_type": "slide"
    }
   },
   "source": [
    "<div style=\"text-align: center\"> <h1> \n",
    "Módulo turtle\n",
    "    </h1> </div>"
   ]
  },
  {
   "cell_type": "code",
   "execution_count": null,
   "id": "f5e1a563",
   "metadata": {
    "slideshow": {
     "slide_type": "fragment"
    }
   },
   "outputs": [],
   "source": [
    "import turtle #módulo turtle permite criar imagens usando [https://docs.python.org/3/library/turtle.html]\n",
    "bob = turtle.Turtle()\n",
    "print(bob)\n",
    "turtle.mainloop()"
   ]
  },
  {
   "cell_type": "markdown",
   "id": "aafcb39e",
   "metadata": {
    "slideshow": {
     "slide_type": "subslide"
    }
   },
   "source": [
    "<div style=\"text-align: left\"><p><strong>Atenção</strong><br>Provavelmente essa função não funcionara muito bem no Jupyter notebook e deverá ser usado o pycharm</p></div>"
   ]
  },
  {
   "cell_type": "markdown",
   "id": "3b68beea",
   "metadata": {
    "slideshow": {
     "slide_type": "slide"
    }
   },
   "source": [
    "<div style=\"text-align: left\"><p><strong>Crie um script para escrever a primeira letra do seu nome</strong><br></p></div>"
   ]
  },
  {
   "cell_type": "code",
   "execution_count": null,
   "id": "91119db4",
   "metadata": {
    "slideshow": {
     "slide_type": "fragment"
    }
   },
   "outputs": [],
   "source": [
    "import turtle #módulo turtle permite criar imagens usando [https://docs.python.org/3/library/turtle.html]\n",
    "bob = turtle.Turtle()\n",
    "print(bob)\n",
    "bob.fd(100)\n",
    "bob.lt(90)\n",
    "bob.fd(100)\n",
    "bob.lt(90)\n",
    "bob.fd(100)\n",
    "bob.lt(90)\n",
    "bob.fd(100)\n",
    "bob.fd(100)\n",
    "bob.lt(180)\n",
    "bob.fd(100)\n",
    "bob.lt(225)\n",
    "bob.fd(141)\n",
    "turtle.mainloop()"
   ]
  },
  {
   "cell_type": "markdown",
   "id": "3667cfa2",
   "metadata": {
    "slideshow": {
     "slide_type": "slide"
    }
   },
   "source": [
    "<div style=\"text-align: center\"> <h1> \n",
    "Repetição simples\n",
    "    </h1> </div>"
   ]
  },
  {
   "cell_type": "code",
   "execution_count": null,
   "id": "d8cdcb3b",
   "metadata": {
    "slideshow": {
     "slide_type": "fragment"
    }
   },
   "outputs": [],
   "source": [
    "for i in range(4):\n",
    "    print('Olá!')"
   ]
  },
  {
   "cell_type": "code",
   "execution_count": null,
   "id": "99288530",
   "metadata": {
    "slideshow": {
     "slide_type": "fragment"
    }
   },
   "outputs": [],
   "source": [
    "import turtle\n",
    "bob = turtle.Turtle()\n",
    "print(bob)\n",
    "for i in range(4): #Uma instrução for também é chamada de loop porque o fluxo da execução passa pelo\n",
    "#corpo e depois volta ao topo.\n",
    "    bob.fd(100)\n",
    "    bob.lt(90)\n",
    "turtle.mainloop()"
   ]
  },
  {
   "cell_type": "markdown",
   "id": "a54c37d7",
   "metadata": {
    "slideshow": {
     "slide_type": "slide"
    }
   },
   "source": [
    "<div style=\"text-align: center\"> <h1> \n",
    "Game Ping Pong\n",
    "    </h1> </div>"
   ]
  },
  {
   "cell_type": "markdown",
   "id": "bab2dc6b",
   "metadata": {
    "slideshow": {
     "slide_type": "slide"
    }
   },
   "source": [
    "<div style=\"text-align: center\"> <h4> \n",
    "Construindo a Tela\n",
    "    </h4> </div>"
   ]
  },
  {
   "cell_type": "code",
   "execution_count": null,
   "id": "f71a6101",
   "metadata": {
    "slideshow": {
     "slide_type": "subslide"
    }
   },
   "outputs": [],
   "source": [
    "import turtle #módulo turtle permite criar imagens usando [https://docs.python.org/3/library/turtle.html]\n",
    "\n",
    "wn = turtle.Screen()\n",
    "wn.title(\"Ping e Pong\")\n",
    "wn.bgcolor(\"white\")\n",
    "wn.setup(width=800, height=600)\n",
    "wn.tracer(0)"
   ]
  },
  {
   "cell_type": "code",
   "execution_count": null,
   "id": "01f26495",
   "metadata": {
    "slideshow": {
     "slide_type": "subslide"
    }
   },
   "outputs": [],
   "source": [
    "import turtle\n",
    "\n",
    "wn = turtle.Screen()\n",
    "wn.title(\"Ping e Pong\")\n",
    "wn.bgcolor(\"white\")\n",
    "wn.setup(width=800, height=600)\n",
    "wn.tracer(0)\n",
    "\n",
    "\n",
    "#Main game loop\n",
    "\n",
    "while True:\n",
    "    wn.update()"
   ]
  },
  {
   "cell_type": "markdown",
   "id": "ce741dbb",
   "metadata": {
    "slideshow": {
     "slide_type": "slide"
    }
   },
   "source": [
    "<div style=\"text-align: center\"> <h4> \n",
    "Construindo os objetos do jogo\n",
    "    </h4> </div>"
   ]
  },
  {
   "cell_type": "code",
   "execution_count": null,
   "id": "32017043",
   "metadata": {
    "slideshow": {
     "slide_type": "fragment"
    }
   },
   "outputs": [],
   "source": [
    "#Raquete A\n",
    "\n",
    "#Raquete B\n",
    "\n",
    "#Bola\n"
   ]
  },
  {
   "cell_type": "code",
   "execution_count": null,
   "id": "045e91fe",
   "metadata": {
    "slideshow": {
     "slide_type": "subslide"
    }
   },
   "outputs": [],
   "source": [
    "#Raquete A\n",
    "\n",
    "raquete_a = turtle.Turtle()\n",
    "raquete_a.speed(0)\n",
    "raquete_a.shape(\"square\")\n",
    "raquete_a.color(\"black\")\n",
    "raquete_a.penup()\n",
    "raquete_a.goto(-350, 0)"
   ]
  },
  {
   "cell_type": "code",
   "execution_count": null,
   "id": "f7bf24aa",
   "metadata": {
    "slideshow": {
     "slide_type": "subslide"
    }
   },
   "outputs": [],
   "source": [
    "import turtle\n",
    "\n",
    "wn = turtle.Screen()\n",
    "wn.title(\"Ping e Pong\")\n",
    "wn.bgcolor(\"white\")\n",
    "wn.setup(width=800, height=600)\n",
    "wn.tracer(0)\n",
    "\n",
    "#Raquete A\n",
    "\n",
    "raquete_a = turtle.Turtle()\n",
    "raquete_a.speed(0)\n",
    "raquete_a.shape(\"square\")\n",
    "raquete_a.color(\"black\")\n",
    "raquete_a.penup()\n",
    "raquete_a.goto(-350, 0)\n",
    "\n",
    "\n",
    "#Main game loop\n",
    "\n",
    "while True:\n",
    "    wn.update()"
   ]
  },
  {
   "cell_type": "code",
   "execution_count": null,
   "id": "f6db69b4",
   "metadata": {
    "slideshow": {
     "slide_type": "subslide"
    }
   },
   "outputs": [],
   "source": [
    "import turtle\n",
    "\n",
    "wn = turtle.Screen()\n",
    "wn.title(\"Ping e Pong\")\n",
    "wn.bgcolor(\"white\")\n",
    "wn.setup(width=800, height=600)\n",
    "wn.tracer(0)\n",
    "\n",
    "#Raquete A\n",
    "\n",
    "raquete_a = turtle.Turtle()\n",
    "raquete_a.speed(0)\n",
    "raquete_a.shape(\"square\")\n",
    "raquete_a.color(\"black\")\n",
    "raquete_a.penup()\n",
    "raquete_a.goto(-350, 0)\n",
    "raquete_a.shapesize(stretch_wid=5, stretch_len=1)\n",
    "\n",
    "\n",
    "#Main game loop\n",
    "\n",
    "while True:\n",
    "    wn.update()"
   ]
  },
  {
   "cell_type": "code",
   "execution_count": null,
   "id": "b732db34",
   "metadata": {
    "slideshow": {
     "slide_type": "subslide"
    }
   },
   "outputs": [],
   "source": [
    "import turtle\n",
    "\n",
    "wn = turtle.Screen()\n",
    "wn.title(\"Ping e Pong\")\n",
    "wn.bgcolor(\"white\")\n",
    "wn.setup(width=800, height=600)\n",
    "wn.tracer(0)\n",
    "\n",
    "#Raquete A\n",
    "\n",
    "raquete_a = turtle.Turtle()\n",
    "raquete_a.speed(0)\n",
    "raquete_a.shape(\"square\")\n",
    "raquete_a.color(\"black\")\n",
    "raquete_a.penup()\n",
    "raquete_a.goto(-350, 0)\n",
    "raquete_a.shapesize(stretch_wid=5, stretch_len=1)\n",
    "\n",
    "#Raquete B\n",
    "\n",
    "raquete_b = turtle.Turtle()\n",
    "raquete_b.speed(0)\n",
    "raquete_b.shape(\"square\")\n",
    "raquete_b.color(\"black\")\n",
    "raquete_b.penup()\n",
    "raquete_b.goto(350, 0)\n",
    "raquete_b.shapesize(stretch_wid=5, stretch_len=1)\n",
    "\n",
    "\n",
    "#Main game loop\n",
    "\n",
    "while True:\n",
    "    wn.update()"
   ]
  },
  {
   "cell_type": "code",
   "execution_count": null,
   "id": "43a4614a",
   "metadata": {
    "slideshow": {
     "slide_type": "subslide"
    }
   },
   "outputs": [],
   "source": [
    "import turtle\n",
    "\n",
    "wn = turtle.Screen()\n",
    "wn.title(\"Ping e Pong\")\n",
    "wn.bgcolor(\"white\")\n",
    "wn.setup(width=800, height=600)\n",
    "wn.tracer(0)\n",
    "\n",
    "#Raquete A\n",
    "\n",
    "raquete_a = turtle.Turtle()\n",
    "raquete_a.speed(0)\n",
    "raquete_a.shape(\"square\")\n",
    "raquete_a.color(\"black\")\n",
    "raquete_a.penup()\n",
    "raquete_a.goto(-350, 0)\n",
    "raquete_a.shapesize(stretch_wid=5, stretch_len=1)\n",
    "\n",
    "#Raquete B\n",
    "\n",
    "raquete_b = turtle.Turtle()\n",
    "raquete_b.speed(0)\n",
    "raquete_b.shape(\"square\")\n",
    "raquete_b.color(\"black\")\n",
    "raquete_b.penup()\n",
    "raquete_b.goto(350, 0)\n",
    "raquete_b.shapesize(stretch_wid=5, stretch_len=1)\n",
    "\n",
    "#Bola\n",
    "\n",
    "bola = turtle.Turtle()\n",
    "bola.speed(0)\n",
    "bola.shape(\"square\")\n",
    "bola.color(\"black\")\n",
    "bola.penup()\n",
    "bola.goto(0, 0)\n",
    "\n",
    "\n",
    "\n",
    "#Main game loop\n",
    "\n",
    "while True:\n",
    "    wn.update()"
   ]
  },
  {
   "cell_type": "markdown",
   "id": "867b862c",
   "metadata": {
    "slideshow": {
     "slide_type": "slide"
    }
   },
   "source": [
    "<div style=\"text-align: center\"> <h4> \n",
    "Movendo as raquetes\n",
    "    </h4> </div>"
   ]
  },
  {
   "cell_type": "code",
   "execution_count": null,
   "id": "d494d888",
   "metadata": {
    "slideshow": {
     "slide_type": "subslide"
    }
   },
   "outputs": [],
   "source": [
    "#Funções\n",
    "\n",
    "def raquete_a_cima():\n",
    "    y = raquete_a.ycor()\n",
    "    y += 20\n",
    "    raquete_a.sety(y)\n",
    "    \n",
    "#Linkando com o teclado\n",
    "\n",
    "wn.listen()\n",
    "wn.onkeypress(raquete_a_cima, \"w\")"
   ]
  },
  {
   "cell_type": "code",
   "execution_count": null,
   "id": "61abc17b",
   "metadata": {
    "slideshow": {
     "slide_type": "subslide"
    }
   },
   "outputs": [],
   "source": [
    "import turtle\n",
    "\n",
    "wn = turtle.Screen()\n",
    "wn.title(\"Ping e Pong\")\n",
    "wn.bgcolor(\"white\")\n",
    "wn.setup(width=800, height=600)\n",
    "wn.tracer(0)\n",
    "\n",
    "#Raquete A\n",
    "\n",
    "raquete_a = turtle.Turtle()\n",
    "raquete_a.speed(0)\n",
    "raquete_a.shape(\"square\")\n",
    "raquete_a.color(\"black\")\n",
    "raquete_a.penup()\n",
    "raquete_a.goto(-350, 0)\n",
    "raquete_a.shapesize(stretch_wid=5, stretch_len=1)\n",
    "\n",
    "#Raquete B\n",
    "\n",
    "raquete_b = turtle.Turtle()\n",
    "raquete_b.speed(0)\n",
    "raquete_b.shape(\"square\")\n",
    "raquete_b.color(\"black\")\n",
    "raquete_b.penup()\n",
    "raquete_b.goto(350, 0)\n",
    "raquete_b.shapesize(stretch_wid=5, stretch_len=1)\n",
    "\n",
    "#Bola\n",
    "\n",
    "bola = turtle.Turtle()\n",
    "bola.speed(0)\n",
    "bola.shape(\"square\")\n",
    "bola.color(\"black\")\n",
    "bola.penup()\n",
    "bola.goto(0, 0)\n",
    "\n",
    "#Funções\n",
    "\n",
    "def raquete_a_cima():\n",
    "    y = raquete_a.ycor()\n",
    "    y += 20\n",
    "    raquete_a.sety(y)\n",
    "    \n",
    "#Linkando com o teclado\n",
    "\n",
    "wn.listen()\n",
    "wn.onkeypress(raquete_a_cima, \"w\")\n",
    "\n",
    "\n",
    "#Main game loop\n",
    "\n",
    "while True:\n",
    "    wn.update()"
   ]
  },
  {
   "cell_type": "code",
   "execution_count": null,
   "id": "7d691676",
   "metadata": {
    "slideshow": {
     "slide_type": "subslide"
    }
   },
   "outputs": [],
   "source": [
    "#Funções\n",
    "\n",
    "def raquete_a_cima():\n",
    "    y = raquete_a.ycor()\n",
    "    y += 20\n",
    "    raquete_a.sety(y)\n",
    "    \n",
    "    \n",
    "def raquete_a_baixo():\n",
    "    y = raquete_a.ycor()\n",
    "    y -= 20\n",
    "    raquete_a.sety(y)\n",
    "    \n",
    "#Linkando com o teclado\n",
    "\n",
    "wn.listen()\n",
    "wn.onkeypress(raquete_a_cima, \"w\")\n",
    "wn.onkeypress(raquete_a_baixo, \"s\")"
   ]
  },
  {
   "cell_type": "code",
   "execution_count": null,
   "id": "4659df13",
   "metadata": {
    "slideshow": {
     "slide_type": "subslide"
    }
   },
   "outputs": [],
   "source": [
    "import turtle\n",
    "\n",
    "wn = turtle.Screen()\n",
    "wn.title(\"Ping e Pong\")\n",
    "wn.bgcolor(\"white\")\n",
    "wn.setup(width=800, height=600)\n",
    "wn.tracer(0)\n",
    "\n",
    "#Raquete A\n",
    "\n",
    "raquete_a = turtle.Turtle()\n",
    "raquete_a.speed(0)\n",
    "raquete_a.shape(\"square\")\n",
    "raquete_a.color(\"black\")\n",
    "raquete_a.penup()\n",
    "raquete_a.goto(-350, 0)\n",
    "raquete_a.shapesize(stretch_wid=5, stretch_len=1)\n",
    "\n",
    "#Raquete B\n",
    "  \n",
    "raquete_b = turtle.Turtle()\n",
    "raquete_b.speed(0)\n",
    "raquete_b.shape(\"square\")\n",
    "raquete_b.color(\"black\")\n",
    "raquete_b.penup()\n",
    "raquete_b.goto(350, 0)\n",
    "raquete_b.shapesize(stretch_wid=5, stretch_len=1)\n",
    "\n",
    "#Bola\n",
    "\n",
    "bola = turtle.Turtle()\n",
    "bola.speed(0)\n",
    "bola.shape(\"square\")\n",
    "bola.color(\"black\")\n",
    "bola.penup()\n",
    "bola.goto(0, 0)\n",
    "\n",
    "#Funções\n",
    "\n",
    "def raquete_a_cima():\n",
    "    y = raquete_a.ycor()\n",
    "    y += 20\n",
    "    raquete_a.sety(y)\n",
    "    \n",
    "    \n",
    "def raquete_a_baixo():\n",
    "    y = raquete_a.ycor()\n",
    "    y -= 20\n",
    "    raquete_a.sety(y)\n",
    "    \n",
    "#Linkando com o teclado\n",
    "\n",
    "wn.listen()\n",
    "wn.onkeypress(raquete_a_cima, \"w\")\n",
    "wn.onkeypress(raquete_a_baixo, \"s\")\n",
    "\n",
    "#Main game loop\n",
    "\n",
    "while True:\n",
    "    wn.update()"
   ]
  },
  {
   "cell_type": "code",
   "execution_count": null,
   "id": "f045c7a4",
   "metadata": {
    "slideshow": {
     "slide_type": "subslide"
    }
   },
   "outputs": [],
   "source": [
    "#Funções\n",
    "\n",
    "def raquete_a_cima():\n",
    "    y = raquete_a.ycor()\n",
    "    y += 20\n",
    "    raquete_a.sety(y)\n",
    "    \n",
    "def raquete_a_baixo():\n",
    "    y = raquete_a.ycor()\n",
    "    y -= 20\n",
    "    raquete_a.sety(y)\n",
    "    \n",
    "def raquete_b_cima():\n",
    "    y = raquete_b.ycor()\n",
    "    y += 20\n",
    "    raquete_b.sety(y)\n",
    "        \n",
    "def raquete_b_baixo():\n",
    "    y = raquete_b.ycor()\n",
    "    y -= 20\n",
    "    raquete_b.sety(y)\n",
    "    \n",
    "#Linkando com o teclado\n",
    "\n",
    "wn.listen()\n",
    "wn.onkeypress(raquete_a_cima, \"w\")\n",
    "wn.onkeypress(raquete_a_baixo, \"s\")\n",
    "wn.onkeypress(raquete_b_cima, \"Up\")\n",
    "wn.onkeypress(raquete_b_baixo, \"Down\")"
   ]
  },
  {
   "cell_type": "code",
   "execution_count": null,
   "id": "1bb2fa37",
   "metadata": {
    "slideshow": {
     "slide_type": "subslide"
    }
   },
   "outputs": [],
   "source": [
    "import turtle\n",
    "\n",
    "wn = turtle.Screen()\n",
    "wn.title(\"Ping e Pong\")\n",
    "wn.bgcolor(\"white\")\n",
    "wn.setup(width=800, height=600)\n",
    "wn.tracer(0)\n",
    "\n",
    "#Raquete A\n",
    "\n",
    "raquete_a = turtle.Turtle()\n",
    "raquete_a.speed(0)\n",
    "raquete_a.shape(\"square\")\n",
    "raquete_a.color(\"black\")\n",
    "raquete_a.penup()\n",
    "raquete_a.goto(-350, 0)\n",
    "raquete_a.shapesize(stretch_wid=5, stretch_len=1)\n",
    "\n",
    "#Raquete B\n",
    "\n",
    "raquete_b = turtle.Turtle()\n",
    "raquete_b.speed(0)\n",
    "raquete_b.shape(\"square\")\n",
    "raquete_b.color(\"black\")\n",
    "raquete_b.penup()\n",
    "raquete_b.goto(350, 0)\n",
    "raquete_b.shapesize(stretch_wid=5, stretch_len=1)\n",
    "\n",
    "#Bola\n",
    "\n",
    "bola = turtle.Turtle()\n",
    "bola.speed(0)\n",
    "bola.shape(\"square\")\n",
    "bola.color(\"black\")\n",
    "bola.penup()\n",
    "bola.goto(0, 0)\n",
    "\n",
    "#Funções\n",
    "\n",
    "def raquete_a_cima():\n",
    "    y = raquete_a.ycor()\n",
    "    y += 20\n",
    "    raquete_a.sety(y)\n",
    "    \n",
    "def raquete_a_baixo():\n",
    "    y = raquete_a.ycor()\n",
    "    y -= 20\n",
    "    raquete_a.sety(y)\n",
    "    \n",
    "def raquete_b_cima():\n",
    "    y = raquete_b.ycor()\n",
    "    y += 20\n",
    "    raquete_b.sety(y)\n",
    "        \n",
    "def raquete_b_baixo():\n",
    "    y = raquete_b.ycor()\n",
    "    y -= 20\n",
    "    raquete_b.sety(y)\n",
    "    \n",
    "#Linkando com o teclado\n",
    "\n",
    "wn.listen()\n",
    "wn.onkeypress(raquete_a_cima, \"w\")\n",
    "wn.onkeypress(raquete_a_baixo, \"s\")\n",
    "wn.onkeypress(raquete_b_cima, \"Up\")\n",
    "wn.onkeypress(raquete_b_baixo, \"Down\")\n",
    "\n",
    "#Main game loop\n",
    "\n",
    "while True:\n",
    "    wn.update()"
   ]
  },
  {
   "cell_type": "markdown",
   "id": "6f3ac497",
   "metadata": {
    "slideshow": {
     "slide_type": "slide"
    }
   },
   "source": [
    "<div style=\"text-align: center\"> <h4> \n",
    "Movendo a bola\n",
    "    </h4> </div>"
   ]
  },
  {
   "cell_type": "code",
   "execution_count": null,
   "id": "2c641346",
   "metadata": {
    "slideshow": {
     "slide_type": "subslide"
    }
   },
   "outputs": [],
   "source": [
    "#Bola\n",
    "\n",
    "bola = turtle.Turtle()\n",
    "bola.speed(0)\n",
    "bola.shape(\"square\")\n",
    "bola.color(\"black\")\n",
    "bola.penup()\n",
    "bola.goto(0, 0)\n",
    "bola.dx = 2\n",
    "bola.dy = 2"
   ]
  },
  {
   "cell_type": "code",
   "execution_count": null,
   "id": "24000283",
   "metadata": {
    "slideshow": {
     "slide_type": "subslide"
    }
   },
   "outputs": [],
   "source": [
    "import turtle\n",
    "\n",
    "wn = turtle.Screen()\n",
    "wn.title(\"Ping e Pong\")\n",
    "wn.bgcolor(\"white\")\n",
    "wn.setup(width=800, height=600)\n",
    "wn.tracer(0)\n",
    "\n",
    "#Raquete A\n",
    "\n",
    "raquete_a = turtle.Turtle()\n",
    "raquete_a.speed(0)\n",
    "raquete_a.shape(\"square\")\n",
    "raquete_a.color(\"black\")\n",
    "raquete_a.penup()\n",
    "raquete_a.goto(-350, 0)\n",
    "raquete_a.shapesize(stretch_wid=5, stretch_len=1)\n",
    "\n",
    "#Raquete B\n",
    "\n",
    "raquete_b = turtle.Turtle()\n",
    "raquete_b.speed(0)\n",
    "raquete_b.shape(\"square\")\n",
    "raquete_b.color(\"black\")\n",
    "raquete_b.penup()\n",
    "raquete_b.goto(350, 0)\n",
    "raquete_b.shapesize(stretch_wid=5, stretch_len=1)\n",
    "\n",
    "#Bola\n",
    "\n",
    "bola = turtle.Turtle()\n",
    "bola.speed(0)\n",
    "bola.shape(\"square\")\n",
    "bola.color(\"black\")\n",
    "bola.penup()\n",
    "bola.goto(0, 0)\n",
    "bola.dx = 2\n",
    "bola.dy = 2\n",
    "\n",
    "#Funções\n",
    "\n",
    "def raquete_a_cima():\n",
    "    y = raquete_a.ycor()\n",
    "    y += 20\n",
    "    raquete_a.sety(y)\n",
    "    \n",
    "def raquete_a_baixo():\n",
    "    y = raquete_a.ycor()\n",
    "    y -= 20\n",
    "    raquete_a.sety(y)\n",
    "    \n",
    "def raquete_b_cima():\n",
    "    y = raquete_b.ycor()\n",
    "    y += 20\n",
    "    raquete_b.sety(y)\n",
    "        \n",
    "def raquete_b_baixo():\n",
    "    y = raquete_b.ycor()\n",
    "    y -= 20\n",
    "    raquete_b.sety(y)\n",
    "    \n",
    "#Linkando com o teclado\n",
    "\n",
    "wn.listen()\n",
    "wn.onkeypress(raquete_a_cima, \"w\")\n",
    "wn.onkeypress(raquete_a_baixo, \"s\")\n",
    "wn.onkeypress(raquete_b_cima, \"Up\")\n",
    "wn.onkeypress(raquete_b_baixo, \"Down\")\n",
    "\n",
    "#Main game loop\n",
    "\n",
    "while True:\n",
    "    wn.update()\n",
    "    \n",
    "    #Movendo a bola\n",
    "    bola.setx(bola.xcor() + bola.dx)\n",
    "    bola.sety(bola.ycor() + bola.dy)"
   ]
  },
  {
   "cell_type": "code",
   "execution_count": null,
   "id": "0c4aa9b3",
   "metadata": {
    "slideshow": {
     "slide_type": "subslide"
    }
   },
   "outputs": [],
   "source": [
    "import turtle\n",
    "\n",
    "wn = turtle.Screen()\n",
    "wn.title(\"Ping e Pong\")\n",
    "wn.bgcolor(\"white\")\n",
    "wn.setup(width=800, height=600)\n",
    "wn.tracer(0)\n",
    "\n",
    "#Raquete A\n",
    "\n",
    "raquete_a = turtle.Turtle()\n",
    "raquete_a.speed(0)\n",
    "raquete_a.shape(\"square\")\n",
    "raquete_a.color(\"black\")\n",
    "raquete_a.penup()\n",
    "raquete_a.goto(-350, 0)\n",
    "raquete_a.shapesize(stretch_wid=5, stretch_len=1)\n",
    "\n",
    "#Raquete B\n",
    "\n",
    "raquete_b = turtle.Turtle()\n",
    "raquete_b.speed(0)\n",
    "raquete_b.shape(\"square\")\n",
    "raquete_b.color(\"black\")\n",
    "raquete_b.penup()\n",
    "raquete_b.goto(350, 0)\n",
    "raquete_b.shapesize(stretch_wid=5, stretch_len=1)\n",
    "\n",
    "#Bola\n",
    "\n",
    "bola = turtle.Turtle()\n",
    "bola.speed(0)\n",
    "bola.shape(\"square\")\n",
    "bola.color(\"black\")\n",
    "bola.penup()\n",
    "bola.goto(0, 0)\n",
    "bola.dx = 2\n",
    "bola.dy = -2\n",
    "\n",
    "#Funções\n",
    "\n",
    "def raquete_a_cima():\n",
    "    y = raquete_a.ycor()\n",
    "    y += 20\n",
    "    raquete_a.sety(y)\n",
    "    \n",
    "def raquete_a_baixo():\n",
    "    y = raquete_a.ycor()\n",
    "    y -= 20\n",
    "    raquete_a.sety(y)\n",
    "    \n",
    "def raquete_b_cima():\n",
    "    y = raquete_b.ycor()\n",
    "    y += 20\n",
    "    raquete_b.sety(y)\n",
    "        \n",
    "def raquete_b_baixo():\n",
    "    y = raquete_b.ycor()\n",
    "    y -= 20\n",
    "    raquete_b.sety(y)\n",
    "    \n",
    "#Linkando com o teclado\n",
    "\n",
    "wn.listen()\n",
    "wn.onkeypress(raquete_a_cima, \"w\")\n",
    "wn.onkeypress(raquete_a_baixo, \"s\")\n",
    "wn.onkeypress(raquete_b_cima, \"Up\")\n",
    "wn.onkeypress(raquete_b_baixo, \"Down\")\n",
    "\n",
    "#Main game loop\n",
    "\n",
    "while True:\n",
    "    wn.update()\n",
    "    \n",
    "    #Movendo a bola\n",
    "    bola.setx(bola.xcor() + bola.dx)\n",
    "    bola.sety(bola.ycor() + bola.dy)\n",
    "    \n",
    "    #Definindo a borda\n",
    "    if bola.ycor() > 290:\n",
    "        bola.sety(290)\n",
    "        bola.dy *= -1\n",
    "        \n",
    "    if bola.ycor() < -290:\n",
    "        bola.sety(-290)\n",
    "        bola.dy *= -1"
   ]
  },
  {
   "cell_type": "code",
   "execution_count": null,
   "id": "9c579282",
   "metadata": {
    "slideshow": {
     "slide_type": "subslide"
    }
   },
   "outputs": [],
   "source": [
    "import turtle\n",
    "\n",
    "wn = turtle.Screen()\n",
    "wn.title(\"Ping e Pong\")\n",
    "wn.bgcolor(\"white\")\n",
    "wn.setup(width=800, height=600)\n",
    "wn.tracer(0)\n",
    "\n",
    "#Raquete A\n",
    "\n",
    "raquete_a = turtle.Turtle()\n",
    "raquete_a.speed(0)\n",
    "raquete_a.shape(\"square\")\n",
    "raquete_a.color(\"black\")\n",
    "raquete_a.penup()\n",
    "raquete_a.goto(-350, 0)\n",
    "raquete_a.shapesize(stretch_wid=5, stretch_len=1)\n",
    "\n",
    "#Raquete B\n",
    "\n",
    "raquete_b = turtle.Turtle()\n",
    "raquete_b.speed(0)\n",
    "raquete_b.shape(\"square\")\n",
    "raquete_b.color(\"black\")\n",
    "raquete_b.penup()\n",
    "raquete_b.goto(350, 0)\n",
    "raquete_b.shapesize(stretch_wid=5, stretch_len=1)\n",
    "\n",
    "#Bola\n",
    "\n",
    "bola = turtle.Turtle()\n",
    "bola.speed(0)\n",
    "bola.shape(\"square\")\n",
    "bola.color(\"black\")\n",
    "bola.penup()\n",
    "bola.goto(0, 0)\n",
    "bola.dx = 2\n",
    "bola.dy = -2\n",
    "\n",
    "#Funções\n",
    "\n",
    "def raquete_a_cima():\n",
    "    y = raquete_a.ycor()\n",
    "    y += 20\n",
    "    raquete_a.sety(y)\n",
    "    \n",
    "def raquete_a_baixo():\n",
    "    y = raquete_a.ycor()\n",
    "    y -= 20\n",
    "    raquete_a.sety(y)\n",
    "    \n",
    "def raquete_b_cima():\n",
    "    y = raquete_b.ycor()\n",
    "    y += 20\n",
    "    raquete_b.sety(y)\n",
    "        \n",
    "def raquete_b_baixo():\n",
    "    y = raquete_b.ycor()\n",
    "    y -= 20\n",
    "    raquete_b.sety(y)\n",
    "    \n",
    "#Linkando com o teclado\n",
    "\n",
    "wn.listen()\n",
    "wn.onkeypress(raquete_a_cima, \"w\")\n",
    "wn.onkeypress(raquete_a_baixo, \"s\")\n",
    "wn.onkeypress(raquete_b_cima, \"Up\")\n",
    "wn.onkeypress(raquete_b_baixo, \"Down\")\n",
    "\n",
    "#Main game loop\n",
    "\n",
    "while True:\n",
    "    wn.update()\n",
    "    \n",
    "    #Movendo a bola\n",
    "    bola.setx(bola.xcor() + bola.dx)\n",
    "    bola.sety(bola.ycor() + bola.dy)\n",
    "    \n",
    "    # Definindo a borda\n",
    "    if bola.ycor() > 290:\n",
    "        bola.sety(290)\n",
    "        bola.dy *= -1\n",
    "\n",
    "    if bola.ycor() < -290:\n",
    "        bola.sety(-290)\n",
    "        bola.dy *= -1\n",
    "\n",
    "    if bola.xcor() > 390:\n",
    "        bola.goto(0, 0)\n",
    "        bola.dx *= -1\n",
    "\n",
    "    if bola.xcor() < -390:\n",
    "        bola.goto(0, 0)\n",
    "        bola.dx *= -1"
   ]
  },
  {
   "cell_type": "markdown",
   "id": "fce39902",
   "metadata": {
    "slideshow": {
     "slide_type": "slide"
    }
   },
   "source": [
    "<div style=\"text-align: center\"> <h4> \n",
    "Batendo na bola com a raquete\n",
    "    </h4> </div>"
   ]
  },
  {
   "cell_type": "code",
   "execution_count": null,
   "id": "9c88b748",
   "metadata": {
    "slideshow": {
     "slide_type": "subslide"
    }
   },
   "outputs": [],
   "source": [
    "import turtle\n",
    "\n",
    "wn = turtle.Screen()\n",
    "wn.title(\"Ping e Pong\")\n",
    "wn.bgcolor(\"white\")\n",
    "wn.setup(width=800, height=600)\n",
    "wn.tracer(0)\n",
    "\n",
    "#Raquete A\n",
    "\n",
    "raquete_a = turtle.Turtle()\n",
    "raquete_a.speed(0)\n",
    "raquete_a.shape(\"square\")\n",
    "raquete_a.color(\"black\")\n",
    "raquete_a.penup()\n",
    "raquete_a.goto(-350, 0)\n",
    "raquete_a.shapesize(stretch_wid=5, stretch_len=1)\n",
    "\n",
    "#Raquete B\n",
    "\n",
    "raquete_b = turtle.Turtle()\n",
    "raquete_b.speed(0)\n",
    "raquete_b.shape(\"square\")\n",
    "raquete_b.color(\"black\")\n",
    "raquete_b.penup()\n",
    "raquete_b.goto(350, 0)\n",
    "raquete_b.shapesize(stretch_wid=5, stretch_len=1)\n",
    "\n",
    "#Bola\n",
    "\n",
    "bola = turtle.Turtle()\n",
    "bola.speed(0)\n",
    "bola.shape(\"square\")\n",
    "bola.color(\"black\")\n",
    "bola.penup()\n",
    "bola.goto(0, 0)\n",
    "bola.dx = 2\n",
    "bola.dy = -2\n",
    "\n",
    "#Funções\n",
    "\n",
    "def raquete_a_cima():\n",
    "    y = raquete_a.ycor()\n",
    "    y += 20\n",
    "    raquete_a.sety(y)\n",
    "    \n",
    "def raquete_a_baixo():\n",
    "    y = raquete_a.ycor()\n",
    "    y -= 20\n",
    "    raquete_a.sety(y)\n",
    "    \n",
    "def raquete_b_cima():\n",
    "    y = raquete_b.ycor()\n",
    "    y += 20\n",
    "    raquete_b.sety(y)\n",
    "        \n",
    "def raquete_b_baixo():\n",
    "    y = raquete_b.ycor()\n",
    "    y -= 20\n",
    "    raquete_b.sety(y)\n",
    "    \n",
    "#Linkando com o teclado\n",
    "\n",
    "wn.listen()\n",
    "wn.onkeypress(raquete_a_cima, \"w\")\n",
    "wn.onkeypress(raquete_a_baixo, \"s\")\n",
    "wn.onkeypress(raquete_b_cima, \"Up\")\n",
    "wn.onkeypress(raquete_b_baixo, \"Down\")\n",
    "\n",
    "#Main game loop\n",
    "\n",
    "while True:\n",
    "    wn.update()\n",
    "    \n",
    "    #Movendo a bola\n",
    "    bola.setx(bola.xcor() + bola.dx)\n",
    "    bola.sety(bola.ycor() + bola.dy)\n",
    "    \n",
    "    # Definindo a borda\n",
    "    if bola.ycor() > 290:\n",
    "        bola.sety(290)\n",
    "        bola.dy *= -1\n",
    "\n",
    "    if bola.ycor() < -290:\n",
    "        bola.sety(-290)\n",
    "        bola.dy *= -1\n",
    "\n",
    "    if bola.xcor() > 390:\n",
    "        bola.goto(0, 0)\n",
    "        bola.dx *= -1\n",
    "\n",
    "    if bola.xcor() < -390:\n",
    "        bola.goto(0, 0)\n",
    "        bola.dx *= -1\n",
    "    \n",
    "    # Batendo na bola com a raquete a\n",
    "    if (bola.xcor() < -340 and bola.xcor() > -350) and (bola.ycor() < raquete_a.ycor() + 40 and bola.ycor() > raquete_a.ycor() - 40):\n",
    "        bola.setx(-340)\n",
    "        bola.dx *= -1\n",
    "        \n",
    "    # Batendo na bola com a raquete b\n",
    "    if (bola.xcor() > 340 and bola.xcor() < 350) and (bola.ycor() < raquete_b.ycor() + 40 and bola.ycor() > raquete_b.ycor() - 40):\n",
    "        bola.setx(340)\n",
    "        bola.dx *= -1\n",
    "               "
   ]
  },
  {
   "cell_type": "markdown",
   "id": "5dbde64f",
   "metadata": {
    "slideshow": {
     "slide_type": "slide"
    }
   },
   "source": [
    "<div style=\"text-align: center\"> <h4> \n",
    "Montando um placar\n",
    "    </h4> </div>"
   ]
  },
  {
   "cell_type": "code",
   "execution_count": null,
   "id": "05c1d757",
   "metadata": {
    "slideshow": {
     "slide_type": "subslide"
    }
   },
   "outputs": [],
   "source": [
    "import turtle\n",
    "\n",
    "wn = turtle.Screen()\n",
    "wn.title(\"Ping e Pong\")\n",
    "wn.bgcolor(\"white\")\n",
    "wn.setup(width=800, height=600)\n",
    "wn.tracer(0)\n",
    "\n",
    "#Placar\n",
    "placar_a = 0\n",
    "placar_b = 0\n",
    "\n",
    "#Caneta\n",
    "\n",
    "caneta = turtle.Turtle()\n",
    "caneta.speed(0)\n",
    "caneta.color(\"black\")\n",
    "caneta.penup()\n",
    "caneta.hideturtle()\n",
    "caneta.goto(0, 260)\n",
    "caneta.write(\"Jogador A: 0 Jogagor B: 0\", align=\"center\", font=(\"Courier\", 24, \"normal\"))\n",
    "\n",
    "# Raquete A\n",
    "\n",
    "raquete_a = turtle.Turtle()\n",
    "raquete_a.speed(0)\n",
    "raquete_a.shape(\"square\")\n",
    "raquete_a.color(\"black\")\n",
    "raquete_a.penup()\n",
    "raquete_a.goto(-350, 0)\n",
    "raquete_a.shapesize(stretch_wid=5, stretch_len=1)\n",
    "\n",
    "# Raquete B\n",
    "\n",
    "raquete_b = turtle.Turtle()\n",
    "raquete_b.speed(0)\n",
    "raquete_b.shape(\"square\")\n",
    "raquete_b.color(\"black\")\n",
    "raquete_b.penup()\n",
    "raquete_b.goto(350, 0)\n",
    "raquete_b.shapesize(stretch_wid=5, stretch_len=1)\n",
    "\n",
    "# Bola\n",
    "\n",
    "bola = turtle.Turtle()\n",
    "bola.speed(0)\n",
    "bola.shape(\"square\")\n",
    "bola.color(\"black\")\n",
    "bola.penup()\n",
    "bola.goto(0, 0)\n",
    "bola.dx = 0.15\n",
    "bola.dy = -0.15\n",
    "\n",
    "\n",
    "# Funções\n",
    "\n",
    "def raquete_a_cima():\n",
    "    y = raquete_a.ycor()\n",
    "    y += 20\n",
    "    raquete_a.sety(y)\n",
    "\n",
    "\n",
    "def raquete_a_baixo():\n",
    "    y = raquete_a.ycor()\n",
    "    y -= 20\n",
    "    raquete_a.sety(y)\n",
    "\n",
    "\n",
    "def raquete_b_cima():\n",
    "    y = raquete_b.ycor()\n",
    "    y += 20\n",
    "    raquete_b.sety(y)\n",
    "\n",
    "\n",
    "def raquete_b_baixo():\n",
    "    y = raquete_b.ycor()\n",
    "    y -= 20\n",
    "    raquete_b.sety(y)\n",
    "\n",
    "\n",
    "# Linkando com o teclado\n",
    "\n",
    "wn.listen()\n",
    "wn.onkeypress(raquete_a_cima, \"w\")\n",
    "wn.onkeypress(raquete_a_baixo, \"s\")\n",
    "wn.onkeypress(raquete_b_cima, \"Up\")\n",
    "wn.onkeypress(raquete_b_baixo, \"Down\")\n",
    "\n",
    "# Main game loop\n",
    "\n",
    "while True:\n",
    "    wn.update()\n",
    "\n",
    "    # Movendo a bola\n",
    "    bola.setx(bola.xcor() + bola.dx)\n",
    "    bola.sety(bola.ycor() + bola.dy)\n",
    "\n",
    "    # Definindo a borda\n",
    "    if bola.ycor() > 290:\n",
    "        bola.sety(290)\n",
    "        bola.dy *= -1\n",
    "\n",
    "    if bola.ycor() < -290:\n",
    "        bola.sety(-290)\n",
    "        bola.dy *= -1\n",
    "\n",
    "    if bola.xcor() > 390:\n",
    "        bola.goto(0, 0)\n",
    "        bola.dx *= -1\n",
    "        placar_a += 1\n",
    "        caneta.clear()\n",
    "        caneta.write(\"Jogador A: {} Jogagor B: {}\".format(placar_a, placar_b), align=\"center\", font=(\"Courier\", 24, \"normal\"))\n",
    "\n",
    "    if bola.xcor() < -390:\n",
    "        bola.goto(0, 0)\n",
    "        bola.dx *= -1\n",
    "        placar_b += 1\n",
    "        caneta.clear()\n",
    "        caneta.write(\"Jogador A: {} Jogagor B: {}\".format(placar_a, placar_b), align=\"center\", font=(\"Courier\", 24, \"normal\"))\n",
    "\n",
    "    # Batendo na bola com a raquete a\n",
    "    if (bola.xcor() < -340 and bola.xcor() > -350) and (bola.ycor() < raquete_a.ycor() + 40 and bola.ycor() > raquete_a.ycor() - 40):\n",
    "        bola.setx(-340)\n",
    "        bola.dx *= -1\n",
    "        \n",
    "    # Batendo na bola com a raquete b\n",
    "    if (bola.xcor() > 340 and bola.xcor() < 350) and (bola.ycor() < raquete_b.ycor() + 40 and bola.ycor() > raquete_b.ycor() - 40):\n",
    "        bola.setx(340)\n",
    "        bola.dx *= -1\n",
    "   "
   ]
  },
  {
   "cell_type": "code",
   "execution_count": null,
   "id": "0e38ebd4",
   "metadata": {
    "slideshow": {
     "slide_type": "skip"
    }
   },
   "outputs": [],
   "source": []
  }
 ],
 "metadata": {
  "celltoolbar": "Slideshow",
  "kernelspec": {
   "display_name": "Python 3 (ipykernel)",
   "language": "python",
   "name": "python3"
  },
  "language_info": {
   "codemirror_mode": {
    "name": "ipython",
    "version": 3
   },
   "file_extension": ".py",
   "mimetype": "text/x-python",
   "name": "python",
   "nbconvert_exporter": "python",
   "pygments_lexer": "ipython3",
   "version": "3.9.7"
  }
 },
 "nbformat": 4,
 "nbformat_minor": 5
}
