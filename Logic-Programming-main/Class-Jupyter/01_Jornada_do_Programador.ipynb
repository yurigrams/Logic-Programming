{
 "cells": [
  {
   "cell_type": "markdown",
   "id": "15d5f32b",
   "metadata": {
    "slideshow": {
     "slide_type": "slide"
    }
   },
   "source": [
    " <div style=\"text-align: center\"> <h1> A jornada de um programador </h1> </div>\n",
    " "
   ]
  },
  {
   "cell_type": "markdown",
   "id": "ec1bc209",
   "metadata": {
    "slideshow": {
     "slide_type": "subslide"
    }
   },
   "source": [
    "<div style=\"text-align: center\"> <h2> O que significa resolução de problemas? </h2> </div>"
   ]
  },
  {
   "cell_type": "markdown",
   "id": "131ebd21",
   "metadata": {
    "slideshow": {
     "slide_type": "fragment"
    }
   },
   "source": [
    "<div style=\"text-align: left\"> <p> Resolução de problemas significa a capacidade de formular problemas, pensar\n",
    "criativamente em soluções e expressar uma solução de forma clara e precisa. Assim, o\n",
    "processo de aprender a programar é uma oportunidade excelente para exercitar a\n",
    "habilidade de resolver problemas.[^1]<br>\n",
    "\n",
    "[^1]: DOWNEY AB, em Python P. pense como um cientista da computação. São Paulo: Novatec. 2016.</p> </div>"
   ]
  },
  {
   "cell_type": "markdown",
   "id": "5d92bfda",
   "metadata": {
    "slideshow": {
     "slide_type": "slide"
    }
   },
   "source": [
    "<div style=\"text-align: center\"> <h2> O que é um programa? </h2> </div>"
   ]
  },
  {
   "cell_type": "markdown",
   "id": "5bec3f38",
   "metadata": {
    "slideshow": {
     "slide_type": "fragment"
    }
   },
   "source": [
    "<div style=\"text-align: left\"> Um programa pode ser definido como uma sequência de instruções que especifica como executar uma operação, essa operação pode ser algo matemático, como solucionar um sistema de equações ou funções, mas também pode ser algo simbólico, como bucar ou substituir textos </div>"
   ]
  },
  {
   "cell_type": "markdown",
   "id": "8e7fea11",
   "metadata": {
    "slideshow": {
     "slide_type": "subslide"
    }
   },
   "source": [
    "<div style=\"text-align: left\">\n",
    "<p><ul>\n",
    "    <li><strong>Entrada</strong><br></li>\n",
    "Receber dados do teclado, de um arquivo, da rede ou de algum outro dispositivo.\n",
    "<br><li><strong>Saída</strong><br></li>\n",
    "Exibir dados na tela, salvá-los em um arquivo, enviá-los pela rede etc.\n",
    "<br><li><strong>Matemática</strong><br></li>\n",
    "Executar operações matemáticas básicas como adição e multiplicação.\n",
    "<br><li><strong>Execução condicional</strong><br></li>\n",
    "Verificar a existência de certas condições e executar o código adequado.\n",
    "<br><li><strong>Repetição</strong><br></li>\n",
    "Executar várias vezes alguma ação, normalmente com algumas variações.\n",
    "    </ul></p></div>"
   ]
  },
  {
   "cell_type": "markdown",
   "id": "2dd3312e",
   "metadata": {
    "slideshow": {
     "slide_type": "slide"
    }
   },
   "source": [
    "<div style=\"text-align: center\"> <h2> Vamos começar? </h2> </div>"
   ]
  },
  {
   "cell_type": "code",
   "execution_count": 1,
   "id": "68d833fe",
   "metadata": {
    "slideshow": {
     "slide_type": "fragment"
    }
   },
   "outputs": [
    {
     "data": {
      "text/plain": [
       "5"
      ]
     },
     "execution_count": 1,
     "metadata": {},
     "output_type": "execute_result"
    }
   ],
   "source": [
    "3+2"
   ]
  },
  {
   "cell_type": "markdown",
   "id": "1af63e35",
   "metadata": {
    "slideshow": {
     "slide_type": "slide"
    }
   },
   "source": [
    "<div style=\"text-align: center\"> <h2>Primeiro Programa</h2> </div>"
   ]
  },
  {
   "cell_type": "code",
   "execution_count": 6,
   "id": "e76c758e",
   "metadata": {
    "slideshow": {
     "slide_type": "subslide"
    }
   },
   "outputs": [
    {
     "name": "stdout",
     "output_type": "stream",
     "text": [
      "Hello, World!\n"
     ]
    }
   ],
   "source": [
    "print('Hello, World!')"
   ]
  },
  {
   "cell_type": "markdown",
   "id": "8418f286",
   "metadata": {
    "slideshow": {
     "slide_type": "fragment"
    }
   },
   "source": [
    "<div style=\"text-align: left\"> <p>As aspas apenas marcam o começo e o fim do texto a ser exibido; elas não aparecem no\n",
    "resultado.<br>\n",
    "    Os parênteses indicam que o print é uma função.</p> </div>"
   ]
  },
  {
   "cell_type": "markdown",
   "id": "31dc87b0",
   "metadata": {
    "slideshow": {
     "slide_type": "slide"
    }
   },
   "source": [
    "<div style=\"text-align: center\"> <h2>Operadores aritméticos</h2> </div>"
   ]
  },
  {
   "cell_type": "code",
   "execution_count": 8,
   "id": "7628ff12",
   "metadata": {
    "slideshow": {
     "slide_type": "fragment"
    }
   },
   "outputs": [
    {
     "data": {
      "text/plain": [
       "6"
      ]
     },
     "execution_count": 8,
     "metadata": {},
     "output_type": "execute_result"
    }
   ],
   "source": [
    "4+2 #Soma"
   ]
  },
  {
   "cell_type": "code",
   "execution_count": 9,
   "id": "fb48413b",
   "metadata": {
    "slideshow": {
     "slide_type": "fragment"
    }
   },
   "outputs": [
    {
     "data": {
      "text/plain": [
       "4"
      ]
     },
     "execution_count": 9,
     "metadata": {},
     "output_type": "execute_result"
    }
   ],
   "source": [
    "5-1 #Subtração"
   ]
  },
  {
   "cell_type": "code",
   "execution_count": 10,
   "id": "95cdd08c",
   "metadata": {
    "slideshow": {
     "slide_type": "fragment"
    }
   },
   "outputs": [
    {
     "data": {
      "text/plain": [
       "30"
      ]
     },
     "execution_count": 10,
     "metadata": {},
     "output_type": "execute_result"
    }
   ],
   "source": [
    "5*6 #Multiplicação"
   ]
  },
  {
   "cell_type": "code",
   "execution_count": 11,
   "id": "3a004f6d",
   "metadata": {
    "slideshow": {
     "slide_type": "fragment"
    }
   },
   "outputs": [
    {
     "data": {
      "text/plain": [
       "50.0"
      ]
     },
     "execution_count": 11,
     "metadata": {},
     "output_type": "execute_result"
    }
   ],
   "source": [
    "100/2 #Divisão"
   ]
  },
  {
   "cell_type": "code",
   "execution_count": 1,
   "id": "04450697",
   "metadata": {
    "slideshow": {
     "slide_type": "fragment"
    }
   },
   "outputs": [
    {
     "data": {
      "text/plain": [
       "8"
      ]
     },
     "execution_count": 1,
     "metadata": {},
     "output_type": "execute_result"
    }
   ],
   "source": [
    "2**3 #Potência"
   ]
  },
  {
   "cell_type": "code",
   "execution_count": 2,
   "id": "da2d420f",
   "metadata": {
    "slideshow": {
     "slide_type": "subslide"
    }
   },
   "outputs": [
    {
     "data": {
      "text/plain": [
       "1"
      ]
     },
     "execution_count": 2,
     "metadata": {},
     "output_type": "execute_result"
    }
   ],
   "source": [
    "10 % 3 #Módulo"
   ]
  },
  {
   "cell_type": "markdown",
   "id": "da4e15c8",
   "metadata": {
    "slideshow": {
     "slide_type": "slide"
    }
   },
   "source": [
    "<div style=\"text-align: center\"> <h2>Valores e tipos</h2> </div>"
   ]
  },
  {
   "cell_type": "code",
   "execution_count": 15,
   "id": "382da90f",
   "metadata": {
    "slideshow": {
     "slide_type": "fragment"
    }
   },
   "outputs": [
    {
     "data": {
      "text/plain": [
       "int"
      ]
     },
     "execution_count": 15,
     "metadata": {},
     "output_type": "execute_result"
    }
   ],
   "source": [
    "type(6)"
   ]
  },
  {
   "cell_type": "code",
   "execution_count": 16,
   "id": "f7e11a9f",
   "metadata": {
    "slideshow": {
     "slide_type": "fragment"
    }
   },
   "outputs": [
    {
     "data": {
      "text/plain": [
       "float"
      ]
     },
     "execution_count": 16,
     "metadata": {},
     "output_type": "execute_result"
    }
   ],
   "source": [
    "type(50.0)"
   ]
  },
  {
   "cell_type": "code",
   "execution_count": 17,
   "id": "797de574",
   "metadata": {
    "slideshow": {
     "slide_type": "fragment"
    }
   },
   "outputs": [
    {
     "data": {
      "text/plain": [
       "str"
      ]
     },
     "execution_count": 17,
     "metadata": {},
     "output_type": "execute_result"
    }
   ],
   "source": [
    "type('Hello,World!')"
   ]
  },
  {
   "cell_type": "code",
   "execution_count": 18,
   "id": "8c390ec4",
   "metadata": {
    "slideshow": {
     "slide_type": "fragment"
    }
   },
   "outputs": [
    {
     "data": {
      "text/plain": [
       "str"
      ]
     },
     "execution_count": 18,
     "metadata": {},
     "output_type": "execute_result"
    }
   ],
   "source": [
    "type('6')"
   ]
  },
  {
   "cell_type": "code",
   "execution_count": 19,
   "id": "0fccf035",
   "metadata": {
    "slideshow": {
     "slide_type": "slide"
    }
   },
   "outputs": [
    {
     "data": {
      "text/plain": [
       "str"
      ]
     },
     "execution_count": 19,
     "metadata": {},
     "output_type": "execute_result"
    }
   ],
   "source": [
    "type('50.0')"
   ]
  },
  {
   "cell_type": "markdown",
   "id": "5780cfc2",
   "metadata": {
    "slideshow": {
     "slide_type": "slide"
    }
   },
   "source": [
    "<div style=\"text-align: left\"><p><strong>Atenção</strong><br>Como poderíamos escrever dois milhões e quinhentos mil em notação americana?<br> O que acontece se escrevessemos como 2,500,000</p></div>"
   ]
  },
  {
   "cell_type": "code",
   "execution_count": 21,
   "id": "1366fce4",
   "metadata": {
    "slideshow": {
     "slide_type": "fragment"
    }
   },
   "outputs": [
    {
     "data": {
      "text/plain": [
       "(2, 500, 0)"
      ]
     },
     "execution_count": 21,
     "metadata": {},
     "output_type": "execute_result"
    }
   ],
   "source": [
    "2,500,000"
   ]
  },
  {
   "cell_type": "markdown",
   "id": "50925c8c",
   "metadata": {
    "slideshow": {
     "slide_type": "fragment"
    }
   },
   "source": [
    "<div style=\"text-align: left\"><strong>O Python interpreta 2,500,000 como uma\n",
    "sequência de números inteiros separados por vírgulas</strong></div>"
   ]
  },
  {
   "cell_type": "markdown",
   "id": "22623066",
   "metadata": {
    "slideshow": {
     "slide_type": "slide"
    }
   },
   "source": [
    "<div style=\"text-align: center\"> <h2>Conversão</h2> </div>"
   ]
  },
  {
   "cell_type": "code",
   "execution_count": 3,
   "id": "1d620d02",
   "metadata": {
    "slideshow": {
     "slide_type": "fragment"
    }
   },
   "outputs": [
    {
     "data": {
      "text/plain": [
       "9.0"
      ]
     },
     "execution_count": 3,
     "metadata": {},
     "output_type": "execute_result"
    }
   ],
   "source": [
    "float(9)"
   ]
  },
  {
   "cell_type": "code",
   "execution_count": 4,
   "id": "6035887a",
   "metadata": {
    "slideshow": {
     "slide_type": "fragment"
    }
   },
   "outputs": [
    {
     "data": {
      "text/plain": [
       "6"
      ]
     },
     "execution_count": 4,
     "metadata": {},
     "output_type": "execute_result"
    }
   ],
   "source": [
    "int(6.0)"
   ]
  },
  {
   "cell_type": "code",
   "execution_count": 5,
   "id": "f2e687ce",
   "metadata": {
    "slideshow": {
     "slide_type": "fragment"
    }
   },
   "outputs": [
    {
     "data": {
      "text/plain": [
       "6"
      ]
     },
     "execution_count": 5,
     "metadata": {},
     "output_type": "execute_result"
    }
   ],
   "source": [
    "int(6.5)"
   ]
  },
  {
   "cell_type": "markdown",
   "id": "7cd2deeb",
   "metadata": {
    "slideshow": {
     "slide_type": "slide"
    }
   },
   "source": [
    "\n",
    "<div style=\"text-align: center\"> <h2>Hexadecimal e Binário</h2> </div>"
   ]
  },
  {
   "cell_type": "code",
   "execution_count": 21,
   "id": "e592b1d3",
   "metadata": {
    "slideshow": {
     "slide_type": "fragment"
    }
   },
   "outputs": [
    {
     "data": {
      "text/plain": [
       "'0x18a'"
      ]
     },
     "execution_count": 21,
     "metadata": {},
     "output_type": "execute_result"
    }
   ],
   "source": [
    "hex(394)"
   ]
  },
  {
   "cell_type": "code",
   "execution_count": 22,
   "id": "16a2cae8",
   "metadata": {
    "slideshow": {
     "slide_type": "fragment"
    }
   },
   "outputs": [
    {
     "data": {
      "text/plain": [
       "'0xd9'"
      ]
     },
     "execution_count": 22,
     "metadata": {},
     "output_type": "execute_result"
    }
   ],
   "source": [
    "hex(217)"
   ]
  },
  {
   "cell_type": "code",
   "execution_count": 23,
   "id": "53e8eee5",
   "metadata": {
    "slideshow": {
     "slide_type": "fragment"
    }
   },
   "outputs": [
    {
     "data": {
      "text/plain": [
       "'0b100011110'"
      ]
     },
     "execution_count": 23,
     "metadata": {},
     "output_type": "execute_result"
    }
   ],
   "source": [
    "bin(286)"
   ]
  },
  {
   "cell_type": "code",
   "execution_count": 24,
   "id": "d96dd5c5",
   "metadata": {
    "slideshow": {
     "slide_type": "fragment"
    }
   },
   "outputs": [
    {
     "data": {
      "text/plain": [
       "'0b110000110'"
      ]
     },
     "execution_count": 24,
     "metadata": {},
     "output_type": "execute_result"
    }
   ],
   "source": [
    "bin(390)"
   ]
  },
  {
   "cell_type": "markdown",
   "id": "a7c9b425",
   "metadata": {
    "slideshow": {
     "slide_type": "slide"
    }
   },
   "source": [
    "<div style=\"text-align: center\"> <h2>Funções abs, round e pow</h2> </div>"
   ]
  },
  {
   "cell_type": "code",
   "execution_count": 25,
   "id": "8fb33773",
   "metadata": {
    "slideshow": {
     "slide_type": "fragment"
    }
   },
   "outputs": [
    {
     "data": {
      "text/plain": [
       "8"
      ]
     },
     "execution_count": 25,
     "metadata": {},
     "output_type": "execute_result"
    }
   ],
   "source": [
    "# Retorna o valor absoluto\n",
    "abs(-8)"
   ]
  },
  {
   "cell_type": "code",
   "execution_count": 26,
   "id": "1b4939ef",
   "metadata": {
    "slideshow": {
     "slide_type": "fragment"
    }
   },
   "outputs": [
    {
     "data": {
      "text/plain": [
       "8"
      ]
     },
     "execution_count": 26,
     "metadata": {},
     "output_type": "execute_result"
    }
   ],
   "source": [
    "# Retorna o valor absoluto\n",
    "abs(8)"
   ]
  },
  {
   "cell_type": "code",
   "execution_count": 27,
   "id": "12446a2b",
   "metadata": {
    "slideshow": {
     "slide_type": "fragment"
    }
   },
   "outputs": [
    {
     "data": {
      "text/plain": [
       "3.14"
      ]
     },
     "execution_count": 27,
     "metadata": {},
     "output_type": "execute_result"
    }
   ],
   "source": [
    "# Retorna o valor com arredondamento\n",
    "round(3.14151922,2)"
   ]
  },
  {
   "cell_type": "code",
   "execution_count": 28,
   "id": "e2e1df93",
   "metadata": {
    "slideshow": {
     "slide_type": "fragment"
    }
   },
   "outputs": [
    {
     "data": {
      "text/plain": [
       "16"
      ]
     },
     "execution_count": 28,
     "metadata": {},
     "output_type": "execute_result"
    }
   ],
   "source": [
    "# Potência\n",
    "pow(4,2)"
   ]
  },
  {
   "cell_type": "code",
   "execution_count": 29,
   "id": "4ffafd9c",
   "metadata": {
    "slideshow": {
     "slide_type": "subslide"
    }
   },
   "outputs": [
    {
     "data": {
      "text/plain": [
       "125"
      ]
     },
     "execution_count": 29,
     "metadata": {},
     "output_type": "execute_result"
    }
   ],
   "source": [
    "# Potência\n",
    "pow(5,3)"
   ]
  },
  {
   "cell_type": "markdown",
   "id": "cf6700e6",
   "metadata": {
    "slideshow": {
     "slide_type": "slide"
    }
   },
   "source": [
    "<div style=\"text-align: center\"> <h2>Linguagens formais e naturais</h2> </div>"
   ]
  },
  {
   "cell_type": "markdown",
   "id": "bf49cea5",
   "metadata": {
    "slideshow": {
     "slide_type": "fragment"
    }
   },
   "source": [
    "<div style=\"text-align: left\"> <p>Podemos citar como linguagem natural os idiomas que as pessoas falam, como espanhol, italiano e português.<br>\n",
    "    As linguagens formais são criadas pelas pessoas para aplicações específicas.<br>\n",
    "    As linguagens de programação são idiomas formais criados para expressar operações de\n",
    "computação.</p> </div>"
   ]
  },
  {
   "cell_type": "markdown",
   "id": "5a9d7fbf",
   "metadata": {
    "slideshow": {
     "slide_type": "slide"
    }
   },
   "source": [
    "<div style=\"text-align: center\"> <h2>Depuração</h2> </div>"
   ]
  },
  {
   "cell_type": "markdown",
   "id": "839b3884",
   "metadata": {
    "slideshow": {
     "slide_type": "fragment"
    }
   },
   "source": [
    "<div style=\"text-align: left\"> <p>Pessoas erram. Por um capricho do destino, erros de programação são\n",
    "chamados de bugs (insetos) e o processo de rastreá-los chama-se depuração (debugging).<br>\n",
    "    Tente pensar no computador como um funcionário com certas vantagens, como velocidade e\n",
    "precisão, e certas desvantagens, como a falta de empatia e a incapacidade de compreender\n",
    "um contexto mais amplo.<br>\n",
    "   Aprender a depurar erros pode ser frustrante, mas é uma habilidade valiosa, útil para\n",
    "muitas atividades além da programação.</p> </div>"
   ]
  },
  {
   "cell_type": "code",
   "execution_count": null,
   "id": "e8d9f861",
   "metadata": {
    "slideshow": {
     "slide_type": "skip"
    }
   },
   "outputs": [],
   "source": []
  }
 ],
 "metadata": {
  "celltoolbar": "Slideshow",
  "kernelspec": {
   "display_name": "Python 3 (ipykernel)",
   "language": "python",
   "name": "python3"
  },
  "language_info": {
   "codemirror_mode": {
    "name": "ipython",
    "version": 3
   },
   "file_extension": ".py",
   "mimetype": "text/x-python",
   "name": "python",
   "nbconvert_exporter": "python",
   "pygments_lexer": "ipython3",
   "version": "3.9.13"
  }
 },
 "nbformat": 4,
 "nbformat_minor": 5
}
